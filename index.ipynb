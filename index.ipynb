{
 "cells": [
  {
   "cell_type": "markdown",
   "metadata": {},
   "source": [
    "# Functions Practice: Building a Calculator\n",
    "\n",
    "\n",
    "## Introduction \n",
    "\n",
    "In this project, you'll create a simple calculator which can perform basic arithmetic operations like addition, subtraction, multiplication, or division depending on the user input.\n",
    "\n",
    "## Objectives\n",
    "\n",
    "In this lab you will:\n",
    "\n",
    "- Use a while loop \n",
    "- Incorporate input/output functionality in code to allow for user interaction  \n",
    "- Declare and use a function with arguments \n",
    "- Use break and continue to add control flow to a while loop \n",
    "\n",
    "\n",
    "\n",
    "## Approach \n",
    "\n",
    "- User chooses the desired operation. Options 1, 2, 3, and 4 are valid options for operations   \n",
    "- Two numbers are taken and an `if…elif…else` branching is used to execute a particular section \n",
    "- Using functions `add()`, `subtract()`, `multiply()`, and `divide()` evaluate respective operations \n",
    "- The code should handle exceptions and must return **\"invalid input\"** when an unexpected character is given in the input (anything other than 1 - 4) \n",
    "\n",
    "## Example interface\n",
    "Here is the interface you are expected to build. Don't worry if it is not 100% the same as what is shown. Focus more on the getting the logic correct at this stage. \n",
    "\n",
    "```\n",
    "Please select an operation:\n",
    "1. Add\n",
    "2. Subtract\n",
    "3. Multiply\n",
    "4. Divide\n",
    "\n",
    "Select operations from 1, 2, 3, 4 : 1\n",
    "Enter first number : 20\n",
    "Enter second number : 13\n",
    "20 + 13 = 33\n",
    "```\n",
    "\n",
    "## Creating arithmetic functions\n",
    "\n",
    "We'll create four functions, one for each arithmetic operation which will perform the required operation and return the resulting value as shown below:"
   ]
  },
  {
   "cell_type": "code",
   "execution_count": 29,
   "metadata": {},
   "outputs": [
    {
     "data": {
      "text/plain": [
       "11"
      ]
     },
     "execution_count": 29,
     "metadata": {},
     "output_type": "execute_result"
    }
   ],
   "source": [
    "# Function to add two numbers \n",
    "def add(num1, num2):\n",
    "    # Perform the calculation\n",
    "    return num1 + num2\n",
    "\n",
    "add(5,6)"
   ]
  },
  {
   "cell_type": "code",
   "execution_count": 2,
   "metadata": {},
   "outputs": [],
   "source": [
    "# Function to subtract two numbers \n",
    "def subtract(num1, num2):\n",
    "    # Perform the calculation\n",
    "    return num1 - num2"
   ]
  },
  {
   "cell_type": "code",
   "execution_count": 3,
   "metadata": {},
   "outputs": [],
   "source": [
    "# Function to multiply two numbers\n",
    "def multiply(num1, num2):\n",
    "    # Perform the calculation\n",
    "    return num1 * num2"
   ]
  },
  {
   "cell_type": "code",
   "execution_count": 4,
   "metadata": {},
   "outputs": [],
   "source": [
    "# Function to divide two numbers\n",
    "def divide(num1, num2):\n",
    "    # Perform the calculation\n",
    "    return num1 / num2"
   ]
  },
  {
   "cell_type": "markdown",
   "metadata": {},
   "source": [
    "## Create a command-line user interface\n",
    "We'll now write the main program body to take user input and call the relevant function:"
   ]
  },
  {
   "cell_type": "code",
   "execution_count": 63,
   "metadata": {},
   "outputs": [
    {
     "name": "stdout",
     "output_type": "stream",
     "text": [
      "Please select an operation:\n",
      "1. Add\n",
      "2. Subtract\n",
      "3. Multiply\n",
      "4. Divide\n",
      " \n",
      "Select operations from 1, 2, 3, 4 : 4\n",
      "Enter first number : 3\n",
      "Enter first number : 6\n",
      "Press d for division and m for modulo operator: d\n",
      "3.0  /  6.0  =  0.5\n",
      "Continue? (y/n): y\n",
      "Please select an operation:\n",
      "1. Add\n",
      "2. Subtract\n",
      "3. Multiply\n",
      "4. Divide\n",
      " \n",
      "Select operations from 1, 2, 3, 4 : 2\n",
      "Enter first number : 9\n",
      "Enter first number : 5\n",
      "9.0  -  5.0  =  4.0\n",
      "Continue? (y/n): n\n"
     ]
    }
   ],
   "source": [
    "another_calc = 'y'\n",
    "\n",
    "while another_calc == 'y':\n",
    "\n",
    "    # Print user menu \n",
    "    print('Please select an operation:')\n",
    "    print('1. Add')\n",
    "    print('2. Subtract')\n",
    "    print('3. Multiply')\n",
    "    print('4. Divide')\n",
    "    print(' ')\n",
    "\n",
    "    # Function for determining validity of number inputs\n",
    "    def isfloat(value):\n",
    "      try:\n",
    "        float(value)\n",
    "        return True\n",
    "      except ValueError:\n",
    "        return False\n",
    "\n",
    "    # Take input from the user for operation, followed by numbers  \n",
    "    operation_valid = False\n",
    "    var1_valid = False\n",
    "    var2_valid = False\n",
    "    dORm_valid = False\n",
    "\n",
    "    while operation_valid == False:\n",
    "        operation = input('Select operations from 1, 2, 3, 4 : ')\n",
    "        if isfloat(operation) == False:\n",
    "            continue\n",
    "        operation = float(operation)\n",
    "        if operation in [1,2,3,4]:\n",
    "            operation_valid = True\n",
    "\n",
    "    while var1_valid == False:\n",
    "        var1 = input('Enter first number : ')\n",
    "        var1_valid = isfloat(var1)\n",
    "    var1 = float(var1)\n",
    "\n",
    "    while var2_valid == False:\n",
    "        var2 = input('Enter first number : ')\n",
    "        var2_valid = isfloat(var1)\n",
    "    var2 = float(var2)\n",
    "\n",
    "    # Division versus modulus when applicable\n",
    "    if operation == 4:\n",
    "        while dORm_valid == False:\n",
    "            dORm = str(input('Press d for division and m for modulo operator: '))\n",
    "            if dORm in ['d','m']:\n",
    "                dORm_valid = True\n",
    "\n",
    "    # Based on operation, pass the two numbers to respective function\n",
    "    answer = 0\n",
    "    if operation == 1:\n",
    "        answer = add(var1,var2)\n",
    "        print(var1,\" + \",var2,\" = \",answer)\n",
    "    if operation == 2:\n",
    "        answer = subtract(var1,var2)\n",
    "        print(var1,\" - \",var2,\" = \",answer)\n",
    "    if operation == 3:\n",
    "        answer = multiply(var1,var2)\n",
    "        print(var1,\" * \",var2,\" = \",answer)\n",
    "    if operation ==4:\n",
    "        if dORm == 'd':\n",
    "            answer = round(divide(var1,var2),2)\n",
    "            print(var1,\" / \",var2,\" = \",answer)\n",
    "        if dORm == 'm':\n",
    "            answer = var1 % var2\n",
    "            print(var1,\" % \",var2,\" = \",answer)\n",
    "\n",
    "    another_calc = input('Continue? (y/n): ')\n",
    "    \n",
    "# Print the output in a nice manner\n",
    "# Print \"Invalid input\" if an unexpected character is seen in input\n",
    "\n",
    "\n",
    "# Expected output    \n",
    "\n",
    "# Please select operation -\n",
    "# 1. Add\n",
    "# 2. Subtract\n",
    "# 3. Multiply\n",
    "# 4. Divide\n",
    "\n",
    "# Select operations from 1, 2, 3, 4 :1\n",
    "# Enter first number: 2\n",
    "# Enter second number: 3\n",
    "# 2 + 3 = 5"
   ]
  },
  {
   "cell_type": "markdown",
   "metadata": {},
   "source": [
    "\n",
    "Please select operation -\n",
    "1. Add\n",
    "2. Subtract\n",
    "3. Multiply\n",
    "4. Divide\n",
    "\n",
    "Select operations from 1, 2, 3, 4 :1    \n",
    "Enter first number: 2    \n",
    "Enter second number: 3    \n",
    "2 + 3 = 5 "
   ]
  },
  {
   "cell_type": "markdown",
   "metadata": {},
   "source": [
    "## Bring in the `while` loop\n",
    "\n",
    "We can see how the logic set by using `if-else` statements, along with functions can be used to control the flow of the program in an easy way. Let's add more functionality to our calculator as below:\n",
    "\n",
    "> Let's try to make it a bit more interesting by introducing the behaviour of a real calculator so our users can choose to either continue with calculations OR exit the system. Users gets this functionality by pressing `y` for yes and `n` for no towards continuation.\n",
    "\n",
    "## Example interface\n",
    "\n",
    "**Notice `continue: y/n` at the bottom of interface.**\n",
    "\n",
    "```\n",
    "Please select an operation:\n",
    "1. Add\n",
    "2. Subtract\n",
    "3. Multiply\n",
    "4. Divide\n",
    "\n",
    "Select operations from 1, 2, 3, 4 : 1\n",
    "Enter first number : 20\n",
    "Enter second number : 13\n",
    "20 + 13 = 33\n",
    "\n",
    "Continue: y/n\n",
    "```\n",
    "\n",
    "Let's work towards implementing iteration into the equation and enclose above I/O interface inside a `while` loop."
   ]
  },
  {
   "cell_type": "code",
   "execution_count": null,
   "metadata": {},
   "outputs": [],
   "source": [
    "# Initialize the code with cont (continue) flag set to yes (y)\n",
    "\n",
    "\n",
    "# Check for user input after each iteration of the code in a while loop\n",
    "\n",
    "\n",
    "        # Enclose the I/O  code block inside the while loop\n",
    "        \n",
    "\n",
    "\n",
    "# Expected output format\n",
    "\n",
    "# Select operations from 1, 2, 3, 4 :4\n",
    "# Enter first number: 5\n",
    "# Enter second number: 4\n",
    "# Press d for division and m for modulo operatorm\n",
    "# 5 / 4 = 1\n",
    "# Continue? y/n:y\n",
    "# Select operations from 1, 2, 3, 4 :4\n",
    "# Enter first number: 5\n",
    "# Enter second number: 4\n",
    "# Press d for division and m for modulo operatord\n",
    "# 5 / 4 = 1.25"
   ]
  },
  {
   "cell_type": "markdown",
   "metadata": {},
   "source": [
    "## Level up (Optional)\n",
    "\n",
    "The `while` loop shown above allows the iteration through the code until a specific input from user i.e. `n` is noticed. Let's add some more functionality to this code by asking users about the type of division they are interested in, and this could be either normal division (as before) or a modulo operator (shows remainder).\n",
    "\n",
    "> Change the code in the division function so that if a user selects division operation, the code should ask the user if he/she wants a normal division `/` or floor division `//`, or a modulo division `%` which only returns the remainder of a division. The program should return an exception for any other inputs. "
   ]
  },
  {
   "cell_type": "code",
   "execution_count": null,
   "metadata": {},
   "outputs": [],
   "source": [
    "def divide_v2(num1, num2):\n",
    "    # Perform the calculation\n",
    "    return None"
   ]
  },
  {
   "cell_type": "markdown",
   "metadata": {},
   "source": [
    "## Summary\n",
    "\n",
    "In this lab, we saw how loops and conditions can be used to control the logic of a program execution based on user input. We started with building a simple calculator and incrementally added more functionality to it by adding loops for iteration and further conditions allowing different type of calculations. We also practiced user I/O by taking choices from the users and dealing with exceptions (unexpected input). "
   ]
  }
 ],
 "metadata": {
  "kernelspec": {
   "display_name": "Python 3",
   "language": "python",
   "name": "python3"
  }
 },
 "nbformat": 4,
 "nbformat_minor": 2
}
